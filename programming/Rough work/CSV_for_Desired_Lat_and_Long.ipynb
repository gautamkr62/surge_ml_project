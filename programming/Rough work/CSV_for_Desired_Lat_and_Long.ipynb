{
 "cells": [
  {
   "cell_type": "code",
   "execution_count": 3,
   "id": "f8e80234",
   "metadata": {},
   "outputs": [
    {
     "ename": "KeyboardInterrupt",
     "evalue": "Interrupted by user",
     "output_type": "error",
     "traceback": [
      "\u001b[1;31m---------------------------------------------------------------------------\u001b[0m",
      "\u001b[1;31mKeyboardInterrupt\u001b[0m                         Traceback (most recent call last)",
      "Cell \u001b[1;32mIn[3], line 8\u001b[0m\n\u001b[0;32m      5\u001b[0m data \u001b[38;5;241m=\u001b[39m pd\u001b[38;5;241m.\u001b[39mread_csv(file_path)\n\u001b[0;32m      7\u001b[0m \u001b[38;5;66;03m# Take input for the desired latitude and longitude\u001b[39;00m\n\u001b[1;32m----> 8\u001b[0m Lat \u001b[38;5;241m=\u001b[39m \u001b[38;5;28mfloat\u001b[39m(\u001b[38;5;28;43minput\u001b[39;49m\u001b[43m(\u001b[49m\u001b[38;5;124;43m\"\u001b[39;49m\u001b[38;5;124;43mEnter the desired latitude: \u001b[39;49m\u001b[38;5;124;43m\"\u001b[39;49m\u001b[43m)\u001b[49m)\n\u001b[0;32m      9\u001b[0m Lon \u001b[38;5;241m=\u001b[39m \u001b[38;5;28mfloat\u001b[39m(\u001b[38;5;28minput\u001b[39m(\u001b[38;5;124m\"\u001b[39m\u001b[38;5;124mEnter the desired longitude: \u001b[39m\u001b[38;5;124m\"\u001b[39m))\n\u001b[0;32m     10\u001b[0m Lat \u001b[38;5;241m=\u001b[39m \u001b[38;5;28mround\u001b[39m(Lat \u001b[38;5;241m/\u001b[39m \u001b[38;5;241m2.5\u001b[39m) \u001b[38;5;241m*\u001b[39m \u001b[38;5;241m2.5\u001b[39m\n",
      "File \u001b[1;32m~\\AppData\\Local\\Programs\\Python\\Python310\\lib\\site-packages\\ipykernel\\kernelbase.py:1191\u001b[0m, in \u001b[0;36mKernel.raw_input\u001b[1;34m(self, prompt)\u001b[0m\n\u001b[0;32m   1189\u001b[0m     msg \u001b[38;5;241m=\u001b[39m \u001b[38;5;124m\"\u001b[39m\u001b[38;5;124mraw_input was called, but this frontend does not support input requests.\u001b[39m\u001b[38;5;124m\"\u001b[39m\n\u001b[0;32m   1190\u001b[0m     \u001b[38;5;28;01mraise\u001b[39;00m StdinNotImplementedError(msg)\n\u001b[1;32m-> 1191\u001b[0m \u001b[38;5;28;01mreturn\u001b[39;00m \u001b[38;5;28;43mself\u001b[39;49m\u001b[38;5;241;43m.\u001b[39;49m\u001b[43m_input_request\u001b[49m\u001b[43m(\u001b[49m\n\u001b[0;32m   1192\u001b[0m \u001b[43m    \u001b[49m\u001b[38;5;28;43mstr\u001b[39;49m\u001b[43m(\u001b[49m\u001b[43mprompt\u001b[49m\u001b[43m)\u001b[49m\u001b[43m,\u001b[49m\n\u001b[0;32m   1193\u001b[0m \u001b[43m    \u001b[49m\u001b[38;5;28;43mself\u001b[39;49m\u001b[38;5;241;43m.\u001b[39;49m\u001b[43m_parent_ident\u001b[49m\u001b[43m[\u001b[49m\u001b[38;5;124;43m\"\u001b[39;49m\u001b[38;5;124;43mshell\u001b[39;49m\u001b[38;5;124;43m\"\u001b[39;49m\u001b[43m]\u001b[49m\u001b[43m,\u001b[49m\n\u001b[0;32m   1194\u001b[0m \u001b[43m    \u001b[49m\u001b[38;5;28;43mself\u001b[39;49m\u001b[38;5;241;43m.\u001b[39;49m\u001b[43mget_parent\u001b[49m\u001b[43m(\u001b[49m\u001b[38;5;124;43m\"\u001b[39;49m\u001b[38;5;124;43mshell\u001b[39;49m\u001b[38;5;124;43m\"\u001b[39;49m\u001b[43m)\u001b[49m\u001b[43m,\u001b[49m\n\u001b[0;32m   1195\u001b[0m \u001b[43m    \u001b[49m\u001b[43mpassword\u001b[49m\u001b[38;5;241;43m=\u001b[39;49m\u001b[38;5;28;43;01mFalse\u001b[39;49;00m\u001b[43m,\u001b[49m\n\u001b[0;32m   1196\u001b[0m \u001b[43m\u001b[49m\u001b[43m)\u001b[49m\n",
      "File \u001b[1;32m~\\AppData\\Local\\Programs\\Python\\Python310\\lib\\site-packages\\ipykernel\\kernelbase.py:1234\u001b[0m, in \u001b[0;36mKernel._input_request\u001b[1;34m(self, prompt, ident, parent, password)\u001b[0m\n\u001b[0;32m   1231\u001b[0m \u001b[38;5;28;01mexcept\u001b[39;00m \u001b[38;5;167;01mKeyboardInterrupt\u001b[39;00m:\n\u001b[0;32m   1232\u001b[0m     \u001b[38;5;66;03m# re-raise KeyboardInterrupt, to truncate traceback\u001b[39;00m\n\u001b[0;32m   1233\u001b[0m     msg \u001b[38;5;241m=\u001b[39m \u001b[38;5;124m\"\u001b[39m\u001b[38;5;124mInterrupted by user\u001b[39m\u001b[38;5;124m\"\u001b[39m\n\u001b[1;32m-> 1234\u001b[0m     \u001b[38;5;28;01mraise\u001b[39;00m \u001b[38;5;167;01mKeyboardInterrupt\u001b[39;00m(msg) \u001b[38;5;28;01mfrom\u001b[39;00m \u001b[38;5;28;01mNone\u001b[39;00m\n\u001b[0;32m   1235\u001b[0m \u001b[38;5;28;01mexcept\u001b[39;00m \u001b[38;5;167;01mException\u001b[39;00m:\n\u001b[0;32m   1236\u001b[0m     \u001b[38;5;28mself\u001b[39m\u001b[38;5;241m.\u001b[39mlog\u001b[38;5;241m.\u001b[39mwarning(\u001b[38;5;124m\"\u001b[39m\u001b[38;5;124mInvalid Message:\u001b[39m\u001b[38;5;124m\"\u001b[39m, exc_info\u001b[38;5;241m=\u001b[39m\u001b[38;5;28;01mTrue\u001b[39;00m)\n",
      "\u001b[1;31mKeyboardInterrupt\u001b[0m: Interrupted by user"
     ]
    }
   ],
   "source": [
    "import pandas as pd\n",
    "\n",
    "# Load the CSV file\n",
    "file_path = r'C:\\Users\\gauta\\OneDrive - IIT Kanpur\\Desktop\\PROJECT\\surge\\Bijoy_work\\Taiwan_2024\\csv files\\5_Inserted_latandLong.csv'\n",
    "data = pd.read_csv(file_path)\n",
    "\n",
    "# Take input for the desired latitude and longitude\n",
    "Lat = float(input(\"Enter the desired latitude: \"))\n",
    "Lon = float(input(\"Enter the desired longitude: \"))\n",
    "Lat = round(Lat / 2.5) * 2.5\n",
    "Lon = round(Lon / 5) * 5\n",
    "\n",
    "\n",
    "# Filter the rows that match the desired latitude and longitude\n",
    "filtered_data = data[(data['Latitude'] == Lat) & (data['Longitude'] == Lon)]\n",
    "\n",
    "# Check if there are any matching rows\n",
    "if filtered_data.empty:\n",
    "    print(\"No matching rows found.\")\n",
    "else:\n",
    "    # Save the filtered rows to a new CSV file\n",
    "    output_path = r'C:\\Users\\gauta\\OneDrive - IIT Kanpur\\Desktop\\PROJECT\\surge\\Bijoy_work\\Taiwan_2024\\csv files\\filtered_lat_lon.csv'\n",
    "    filtered_data.to_csv(output_path, index=False)\n",
    "    print(\"Filtered rows have been saved to CSV.\")\n",
    "    print(f\"Number of matching rows: {len(filtered_data)}\")\n",
    "    print(\"New CSV file saved to:\", output_path)\n"
   ]
  },
  {
   "cell_type": "code",
   "execution_count": null,
   "id": "07189953",
   "metadata": {},
   "outputs": [],
   "source": []
  },
  {
   "cell_type": "code",
   "execution_count": null,
   "id": "46670abc",
   "metadata": {},
   "outputs": [],
   "source": []
  },
  {
   "cell_type": "code",
   "execution_count": 36,
   "id": "0c32420d",
   "metadata": {},
   "outputs": [
    {
     "name": "stdout",
     "output_type": "stream",
     "text": [
      "DataFrame has been flattened into three columns with each date repeated 24 times sequentially in the 'Date' column.\n",
      "CSV file saved to: C:\\Users\\gauta\\OneDrive - IIT Kanpur\\Desktop\\PROJECT\\surge\\Bijoy_work\\Taiwan_2024\\csv files\\output_with_repeated_dates.csv\n"
     ]
    }
   ],
   "source": [
    "import pandas as pd\n",
    "\n",
    "# Load the CSV file\n",
    "file_path = r'C:\\Users\\gauta\\OneDrive - IIT Kanpur\\Desktop\\PROJECT\\surge\\Bijoy_work\\Taiwan_2024\\csv files\\6_filtered_lat_lon.csv'\n",
    "df = pd.read_csv(file_path)\n",
    "\n",
    "# Remove the first two columns (latitude and longitude)\n",
    "df = df.iloc[:, 2:]\n",
    "\n",
    "# Extract only the first 37 dates from the header (first row) after removing latitude and longitude\n",
    "dates = list(df.columns[:37])\n",
    "\n",
    "# Initialize an empty list to store repeated dates\n",
    "repeated_dates = []\n",
    "\n",
    "# Repeat each date 24 times sequentially\n",
    "for date in dates:\n",
    "    repeated_dates.extend([date] * 24)\n",
    "\n",
    "# Initialize a new DataFrame for flattened data including dates\n",
    "flattened_df = pd.DataFrame({'Date': repeated_dates})\n",
    "\n",
    "# Flatten each set of 37 columns into new columns\n",
    "num_cols = df.shape[1]\n",
    "num_sets = num_cols // 37\n",
    "\n",
    "for i in range(num_sets):\n",
    "    start_col = i * 37\n",
    "    end_col = (i + 1) * 37\n",
    "    subset = df.iloc[:, start_col:end_col].stack().reset_index(drop=True)\n",
    "    if i == 0:\n",
    "        flattened_df['TEC'] = subset\n",
    "    elif i == 1:\n",
    "        flattened_df['UB'] = subset\n",
    "    elif i == 2:\n",
    "        flattened_df['LB'] = subset\n",
    "\n",
    "# Save the flattened DataFrame to a new CSV file\n",
    "output_path = r'C:\\Users\\gauta\\OneDrive - IIT Kanpur\\Desktop\\PROJECT\\surge\\Bijoy_work\\Taiwan_2024\\csv files\\output_with_repeated_dates.csv'\n",
    "flattened_df.to_csv(output_path, index=False)\n",
    "\n",
    "print(\"DataFrame has been flattened into three columns with each date repeated 24 times sequentially in the 'Date' column.\")\n",
    "print(\"CSV file saved to:\", output_path)\n"
   ]
  },
  {
   "cell_type": "code",
   "execution_count": 31,
   "id": "41095255",
   "metadata": {},
   "outputs": [
    {
     "name": "stdout",
     "output_type": "stream",
     "text": [
      "DataFrame has been flattened into three columns (TEC, UB, LB) with each date in the 'Date' column, followed by 23 NaNs.\n",
      "CSV file saved to: C:\\Users\\gauta\\OneDrive - IIT Kanpur\\Desktop\\PROJECT\\surge\\Bijoy_work\\Taiwan_2024\\csv files\\output_with_dates.csv\n"
     ]
    }
   ],
   "source": [
    "import pandas as pd\n",
    "import numpy as np\n",
    "\n",
    "# Load the CSV file\n",
    "file_path = r'C:\\Users\\gauta\\OneDrive - IIT Kanpur\\Desktop\\PROJECT\\surge\\Bijoy_work\\Taiwan_2024\\csv files\\6_filtered_lat_lon.csv'\n",
    "df = pd.read_csv(file_path)\n",
    "\n",
    "# Remove the first two columns (latitude and longitude)\n",
    "df = df.iloc[:, 2:]\n",
    "\n",
    "# Extract only the first 37 dates from the header (first row) after removing latitude and longitude\n",
    "dates = list(df.columns[:37])\n",
    "\n",
    "# Initialize lists to hold the 'Date' column and NaN values\n",
    "Date = []\n",
    "NaNs = [np.nan] * 24  # List of 24 NaN values\n",
    "\n",
    "# Construct the 'Date' column with NaNs in between\n",
    "for i in range(24 * 37):\n",
    "    if i % 24 == 0:\n",
    "        Date.append(dates[i // 24])  # Append the date every 24 rows\n",
    "    else:\n",
    "        Date.append(np.nan)  # Append NaN for other rows\n",
    "\n",
    "# Create a new DataFrame with 'Date', 'TEC', 'UB', 'LB' columns\n",
    "flattened_df = pd.DataFrame({\n",
    "    'Date': Date,\n",
    "    'TEC': np.nan,\n",
    "    'UB': np.nan,\n",
    "    'LB': np.nan\n",
    "})\n",
    "\n",
    "# Flatten each set of 37 columns into new columns\n",
    "num_cols = df.shape[1]\n",
    "num_sets = num_cols // 37\n",
    "\n",
    "for i in range(num_sets):\n",
    "    start_col = i * 37\n",
    "    end_col = (i + 1) * 37\n",
    "    subset = df.iloc[:, start_col:end_col].values.flatten()\n",
    "    column_name = f'Column_{i + 1}'\n",
    "    if i == 0:\n",
    "        flattened_df['TEC'] = subset\n",
    "    elif i == 1:\n",
    "        flattened_df['UB'] = subset\n",
    "    elif i == 2:\n",
    "        flattened_df['LB'] = subset\n",
    "\n",
    "# Save the flattened DataFrame to a new CSV file\n",
    "output_path = r'C:\\Users\\gauta\\OneDrive - IIT Kanpur\\Desktop\\PROJECT\\surge\\Bijoy_work\\Taiwan_2024\\csv files\\output_with_dates.csv'\n",
    "flattened_df.to_csv(output_path, index=False)\n",
    "\n",
    "print(\"DataFrame has been flattened into three columns (TEC, UB, LB) with each date in the 'Date' column, followed by 23 NaNs.\")\n",
    "print(\"CSV file saved to:\", output_path)\n"
   ]
  },
  {
   "cell_type": "code",
   "execution_count": null,
   "id": "e6884b8d",
   "metadata": {},
   "outputs": [],
   "source": []
  },
  {
   "cell_type": "code",
   "execution_count": null,
   "id": "a5acc0d2",
   "metadata": {},
   "outputs": [],
   "source": []
  }
 ],
 "metadata": {
  "kernelspec": {
   "display_name": "Python 3 (ipykernel)",
   "language": "python",
   "name": "python3"
  },
  "language_info": {
   "codemirror_mode": {
    "name": "ipython",
    "version": 3
   },
   "file_extension": ".py",
   "mimetype": "text/x-python",
   "name": "python",
   "nbconvert_exporter": "python",
   "pygments_lexer": "ipython3",
   "version": "3.10.11"
  }
 },
 "nbformat": 4,
 "nbformat_minor": 5
}
