{
 "cells": [
  {
   "cell_type": "code",
   "execution_count": null,
   "id": "c88e0b70",
   "metadata": {},
   "outputs": [],
   "source": [
    "import pandas as pd\n",
    "import numpy as np\n",
    "\n",
    "# Function to calculate the median of every 3 consecutive elements in a row\n",
    "def calculate_medians(row):\n",
    "    medians = []\n",
    "    for i in range(len(row) - 14):\n",
    "        window = row[i:i + 15]\n",
    "        ub = np.median(window) + 1.34 * np.std(window)  # Upper bound\n",
    "        medians.append(ub)\n",
    "    for i in range(len(row) - 14):\n",
    "        window = row[i:i + 15]\n",
    "        medians.append(np.median(window) - 1.34 * np.std(window))  # Lower bound\n",
    "        \n",
    "    return medians\n",
    "\n",
    "# Load the CSV file\n",
    "file_path = r'C:\\Users\\gauta\\OneDrive - IIT Kanpur\\Desktop\\one.csv'\n",
    "data = pd.read_csv(file_path, header=None)\n",
    "\n",
    "# Calculate medians for each row and store them in a list of lists\n",
    "all_medians = []\n",
    "for idx, row in data.iterrows():\n",
    "    medians_of_row = calculate_medians(row)\n",
    "    all_medians.append(medians_of_row)\n",
    "\n",
    "# Convert the list of lists into a new DataFrame\n",
    "medians_df = pd.DataFrame(all_medians)\n",
    "\n",
    "# Concatenate the original DataFrame with the new medians DataFrame\n",
    "updated_data = pd.concat([data, medians_df], axis=1)\n",
    "\n",
    "# Save the updated DataFrame to a new CSV file\n",
    "output_path = r'C:\\Users\\gauta\\OneDrive - IIT Kanpur\\Desktop\\output.csv'\n",
    "updated_data.to_csv(output_path, index=False)\n",
    "\n",
    "print(\"Medians of every 3 consecutive elements in each row have been calculated and appended.\")\n",
    "print(\"New CSV file saved to:\", output_path)\n"
   ]
  }
 ],
 "metadata": {
  "kernelspec": {
   "display_name": "Python 3 (ipykernel)",
   "language": "python",
   "name": "python3"
  },
  "language_info": {
   "codemirror_mode": {
    "name": "ipython",
    "version": 3
   },
   "file_extension": ".py",
   "mimetype": "text/x-python",
   "name": "python",
   "nbconvert_exporter": "python",
   "pygments_lexer": "ipython3",
   "version": "3.10.11"
  }
 },
 "nbformat": 4,
 "nbformat_minor": 5
}
