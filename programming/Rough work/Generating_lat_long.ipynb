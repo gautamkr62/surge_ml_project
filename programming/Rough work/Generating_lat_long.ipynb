{
 "cells": [
  {
   "cell_type": "code",
   "execution_count": 10,
   "id": "65f56198",
   "metadata": {},
   "outputs": [
    {
     "name": "stdout",
     "output_type": "stream",
     "text": [
      "Latitude and Longitude combinations have been created and saved to CSV.\n"
     ]
    }
   ],
   "source": [
    "import pandas as pd\n",
    "import numpy as np\n",
    "\n",
    "# Define the number of points\n",
    "num_lat_points = 71\n",
    "num_lon_points = 73\n",
    "\n",
    "# Calculate the step size for latitude and longitude\n",
    "latitudes = np.linspace(87.5, -87.5, num_lat_points)\n",
    "longitudes = np.linspace(-180, 180, num_lon_points)\n",
    "\n",
    "# Generate all combinations of latitude and longitude\n",
    "lat_lon_combinations = [(lat, lon) for lat in latitudes for lon in longitudes]\n",
    "final = lat_lon_combinations\n",
    "\n",
    "\n",
    "# Create a DataFrame from the combinations\n",
    "df = pd.DataFrame(final, columns=['Latitude', 'Longitude'])\n",
    "\n",
    "# Save the DataFrame to a CSV file\n",
    "# output_path = r'C:\\Users\\gauta\\OneDrive - IIT Kanpur\\Desktop\\lat_lon_final.csv'\n",
    "# df.to_csv(output_path, index=False)\n",
    "\n",
    "print(\"Latitude and Longitude combinations have been created and saved to CSV.\")\n"
   ]
  },
  {
   "cell_type": "code",
   "execution_count": 11,
   "id": "ec2d6429",
   "metadata": {},
   "outputs": [],
   "source": [
    "import pandas as pd\n",
    "import numpy as np\n",
    "\n",
    "# Define the number of points\n",
    "num_lat_points = 71\n",
    "num_lon_points = 73\n",
    "\n",
    "# Calculate the step size for latitude and longitude\n",
    "latitudes = np.linspace(87.5, -87.5, num_lat_points)\n",
    "longitudes = np.linspace(-180, 180, num_lon_points)\n",
    "\n",
    "# Generate all combinations of latitude and longitude\n",
    "lat_lon_combinations = [(lat, lon) for lat in latitudes for lon in longitudes]\n",
    "\n",
    "# Create a DataFrame from the combinations\n",
    "df = pd.DataFrame(lat_lon_combinations, columns=['Latitude', 'Longitude'])\n",
    "\n",
    "# Repeat the DataFrame 24 times\n",
    "df_repeated = pd.concat([df] * 24, ignore_index=True)\n",
    "\n",
    "# Save the DataFrame to a CSV file\n",
    "# output_path = r'C:\\Users\\gauta\\OneDrive - IIT Kanpur\\Desktop\\lat_lon_repeated.csv'\n",
    "# df_repeated.to_csv(output_path, index=False)\n",
    "\n",
    "# print(\"Latitude and Longitude combinations have been repeated 24 times and saved to CSV.\")\n",
    "\n"
   ]
  },
  {
   "cell_type": "code",
   "execution_count": 13,
   "id": "2ca8f169",
   "metadata": {},
   "outputs": [
    {
     "name": "stdout",
     "output_type": "stream",
     "text": [
      "Enter the Latitude: 34\n",
      "Enter the Longitude: 56\n",
      "35.0 55\n"
     ]
    }
   ],
   "source": [
    "# Generating Nearest Latitude and Longitude.\n",
    "\n",
    "Lat = float(input(\"Enter the Latitude: \"))\n",
    "Lon = float(input(\"Enter the Longitude: \"))\n",
    "\n",
    "# Find nearest multiple of 2.5 from latitude\n",
    "\n",
    "Lat = round(Lat / 2.5) * 2.5\n",
    "Lon = round(Lon / 5) * 5\n",
    "print(Lat, Lon)\n"
   ]
  },
  {
   "cell_type": "code",
   "execution_count": 14,
   "id": "f861fb4c",
   "metadata": {},
   "outputs": [
    {
     "name": "stdout",
     "output_type": "stream",
     "text": [
      "Enter the desired latitude: 34\n",
      "Enter the desired longitude: 56\n",
      "Filtered rows have been saved to CSV.\n",
      "Number of matching rows: 24\n",
      "New CSV file saved to: C:\\Users\\gauta\\OneDrive - IIT Kanpur\\Desktop\\PROJECT\\surge\\Bijoy_work\\Taiwan_2024\\csv files\\filtered_lat_lon.csv\n"
     ]
    }
   ],
   "source": []
  }
 ],
 "metadata": {
  "kernelspec": {
   "display_name": "Python 3 (ipykernel)",
   "language": "python",
   "name": "python3"
  },
  "language_info": {
   "codemirror_mode": {
    "name": "ipython",
    "version": 3
   },
   "file_extension": ".py",
   "mimetype": "text/x-python",
   "name": "python",
   "nbconvert_exporter": "python",
   "pygments_lexer": "ipython3",
   "version": "3.10.11"
  }
 },
 "nbformat": 4,
 "nbformat_minor": 5
}
