{
 "cells": [
  {
   "cell_type": "code",
   "execution_count": 2,
   "id": "3d5b931c",
   "metadata": {},
   "outputs": [
    {
     "name": "stdout",
     "output_type": "stream",
     "text": [
      "Original rows with means (adjusted by ±1.34 * std deviation) appended have been saved to C:\\Users\\gauta\\OneDrive - IIT Kanpur\\Desktop\\PROJECT\\surge\\Bijoy_work\\IONEX_FILES\\GPSG0760_with_means.csv\n"
     ]
    }
   ],
   "source": [
    "import pandas as pd\n",
    "import numpy as np\n",
    "\n",
    "# Function to calculate the mean of every 3 consecutive elements in a row adjusted by +1.34 * std deviation\n",
    "def calculate_means_p(row):\n",
    "    means_p = []\n",
    "    for i in range(len(row) - 2):\n",
    "        window = row[i:i+3]\n",
    "        means_p.append(np.mean(window) + 1.34 * np.std(window))\n",
    "    return means_p\n",
    "\n",
    "# Function to calculate the mean of every 3 consecutive elements in a row adjusted by -1.34 * std deviation\n",
    "def calculate_means_n(row):\n",
    "    means_n = []\n",
    "    for i in range(len(row) - 2):\n",
    "        window = row[i:i+3]\n",
    "        means_n.append(np.mean(window) - 1.34 * np.std(window))\n",
    "    return means_n\n",
    "\n",
    "# Function to process a CSV file, calculate means for each row, and create a new CSV file with adjusted means appended\n",
    "def process_csv(input_file, output_file):\n",
    "    # Load the CSV file\n",
    "    data = pd.read_csv(input_file)\n",
    "    \n",
    "    # Prepare lists to store combined rows\n",
    "    combined_rows = []\n",
    "    \n",
    "    # Iterate over each row in the DataFrame\n",
    "    for idx, row in data.iterrows():\n",
    "        # Calculate means adjusted positively and negatively for the current row\n",
    "        means_of_row_p = calculate_means_p(row)\n",
    "        means_of_row_n = calculate_means_n(row)\n",
    "        \n",
    "        # Create a new combined row by appending original row, means_p, and means_n\n",
    "        combined_row = list(row) + [np.nan] + means_of_row_p + [np.nan] + means_of_row_n\n",
    "        \n",
    "        # Append the combined row to the list\n",
    "        combined_rows.append(combined_row)\n",
    "    \n",
    "    # Create a DataFrame from the combined rows\n",
    "    combined_df = pd.DataFrame(combined_rows)\n",
    "    \n",
    "    # Write the combined DataFrame to a new CSV file\n",
    "    combined_df.to_csv(output_file, index=False, header=False)\n",
    "    \n",
    "    print(f\"Original rows with means (adjusted by ±1.34 * std deviation) appended have been saved to {output_file}\")\n",
    "\n",
    "# Example usage\n",
    "if __name__ == \"__main__\":\n",
    "    input_file = r\"C:\\Users\\gauta\\OneDrive - IIT Kanpur\\Desktop\\PROJECT\\surge\\Bijoy_work\\IONEX_FILES\\GPSG0760.csv\"\n",
    "    output_file = r\"C:\\Users\\gauta\\OneDrive - IIT Kanpur\\Desktop\\PROJECT\\surge\\Bijoy_work\\IONEX_FILES\\GPSG0760_with_means.csv\"\n",
    "    process_csv(input_file, output_file)\n"
   ]
  }
 ],
 "metadata": {
  "kernelspec": {
   "display_name": "Python 3 (ipykernel)",
   "language": "python",
   "name": "python3"
  },
  "language_info": {
   "codemirror_mode": {
    "name": "ipython",
    "version": 3
   },
   "file_extension": ".py",
   "mimetype": "text/x-python",
   "name": "python",
   "nbconvert_exporter": "python",
   "pygments_lexer": "ipython3",
   "version": "3.10.11"
  }
 },
 "nbformat": 4,
 "nbformat_minor": 5
}
