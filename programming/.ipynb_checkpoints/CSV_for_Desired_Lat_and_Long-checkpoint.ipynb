{
 "cells": [
  {
   "cell_type": "code",
   "execution_count": null,
   "id": "8a7f7fbb",
   "metadata": {},
   "outputs": [],
   "source": [
    "import pandas as pd\n",
    "\n",
    "# Load the CSV file\n",
    "file_path = r'C:\\Users\\gauta\\OneDrive - IIT Kanpur\\Desktop\\PROJECT\\surge\\Bijoy_work\\Taiwan_2024\\csv files\\5_Inserted_latandLong.csv'\n",
    "data = pd.read_csv(file_path)\n",
    "\n",
    "# Take input for the desired latitude and longitude\n",
    "Lat = float(input(\"Enter the desired latitude: \"))\n",
    "Lon = float(input(\"Enter the desired longitude: \"))\n",
    "Lat = round(Lat / 2.5) * 2.5\n",
    "Lon = round(Lon / 5) * 5\n",
    "\n",
    "\n",
    "# Filter the rows that match the desired latitude and longitude\n",
    "filtered_data = data[(data['Latitude'] == Lat) & (data['Longitude'] == Lon)]\n",
    "\n",
    "# Check if there are any matching rows\n",
    "if filtered_data.empty:\n",
    "    print(\"No matching rows found.\")\n",
    "else:\n",
    "    # Save the filtered rows to a new CSV file\n",
    "    output_path = r'C:\\Users\\gauta\\OneDrive - IIT Kanpur\\Desktop\\PROJECT\\surge\\Bijoy_work\\Taiwan_2024\\csv files\\filtered_lat_lon.csv'\n",
    "    filtered_data.to_csv(output_path, index=False)\n",
    "    print(\"Filtered rows have been saved to CSV.\")\n",
    "    print(f\"Number of matching rows: {len(filtered_data)}\")\n",
    "    print(\"New CSV file saved to:\", output_path)\n"
   ]
  }
 ],
 "metadata": {
  "kernelspec": {
   "display_name": "Python 3 (ipykernel)",
   "language": "python",
   "name": "python3"
  },
  "language_info": {
   "codemirror_mode": {
    "name": "ipython",
    "version": 3
   },
   "file_extension": ".py",
   "mimetype": "text/x-python",
   "name": "python",
   "nbconvert_exporter": "python",
   "pygments_lexer": "ipython3",
   "version": "3.10.11"
  }
 },
 "nbformat": 4,
 "nbformat_minor": 5
}
